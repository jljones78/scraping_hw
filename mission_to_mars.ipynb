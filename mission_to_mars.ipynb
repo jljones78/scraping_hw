{
 "cells": [
  {
   "cell_type": "code",
   "execution_count": 7,
   "metadata": {},
   "outputs": [],
   "source": [
    "# import dependencies\n",
    "import pandas as pd\n",
    "from bs4 import BeautifulSoup as bs\n",
    "import requests\n",
    "import pymongo\n",
    "import pprint \n",
    "from pymongo import MongoClient\n",
    "from selenium import webdriver\n",
    "from splinter import Browser"
   ]
  },
  {
   "cell_type": "code",
   "execution_count": 8,
   "metadata": {},
   "outputs": [],
   "source": [
    "# scrape news site for title and paragraph text, save off to variables\n",
    "news_url = \"https://mars.nasa.gov/news/\"\n",
    "driver = webdriver.Firefox()\n",
    "driver.get(news_url)\n",
    "driver.implicitly_wait(10)\n",
    "html = driver.page_source\n",
    "news_soup = bs(html, \"html.parser\")\n",
    "\n",
    "news_title = (news_soup.find(\"div\", class_=\"list_text\")).find(\"a\").text\n",
    "news_paragraph = news_soup.find(\"div\", class_=\"article_teaser_body\").text"
   ]
  },
  {
   "cell_type": "code",
   "execution_count": 9,
   "metadata": {},
   "outputs": [],
   "source": [
    "# find featured Mars image from JPL, save full-size image url\n",
    "# note: this url doesn't seem to pull up a Mars image any longer\n",
    "jpl_url = \"https://www.jpl.nasa.gov/spaceimages/?search=&category=Mars\"\n",
    "base_jpl_url = \"https://www.jpl.nasa.gov\"\n",
    "driver = webdriver.Firefox()\n",
    "driver.get(jpl_url)\n",
    "html = driver.page_source\n",
    "img_soup = bs(html, \"html.parser\")\n",
    "\n",
    "#build url from sytle tag\n",
    "image_url  = img_soup.find(\"article\")[\"style\"].replace('background-image: url(','').replace(');', '')[1:-1]\n",
    "featured_image_url = base_jpl_url + image_url"
   ]
  },
  {
   "cell_type": "code",
   "execution_count": 10,
   "metadata": {},
   "outputs": [],
   "source": [
    "# scrape latest mars weather from twitter\n",
    "mars_wx_url = \"https://twitter.com/MarsWxReport\"\n",
    "r = requests.get(mars_wx_url)\n",
    "html = r.text\n",
    "wx_soup = bs(html, \"html.parser\")\n",
    "mars_weather = wx_soup.find_all(\"div\", class_=\"js-tweet-text-container\")[0].text"
   ]
  },
  {
   "cell_type": "code",
   "execution_count": 11,
   "metadata": {},
   "outputs": [],
   "source": [
    "# scrape Mars facts website, display as html table str using pandas\n",
    "mars_facts_url = \"https://space-facts.com/mars/\"\n",
    "mars_df = pd.read_html(mars_facts_url)[0]\n",
    "\n",
    "##  print html string\n",
    "mars_facts_html_str = mars_df.to_html()\n",
    "\n",
    "## render html\n",
    "mars_facts_html = mars_df.to_html(\"mars_facts.html\")"
   ]
  },
  {
   "cell_type": "code",
   "execution_count": 12,
   "metadata": {},
   "outputs": [],
   "source": [
    "# scrape USGS Astrogeology site for high res photos of hemispheres\n",
    "usgs_url = \"https://astrogeology.usgs.gov/search/results?q=hemisphere+enhanced&k1=target&v1=Mars\"\n",
    "browser = Browser('firefox')\n",
    "browser.visit(usgs_url)\n",
    "\n",
    "#create list of titles and urls to loop through\n",
    "hemisphere_list = [(a.text, a['href']) for a in browser.find_by_css('div[class=\"description\"] a')]\n",
    "\n",
    "hemisphere_dict = []\n",
    "for title, hemisphere_url in hemisphere_list:\n",
    "    temp_dict = {}\n",
    "    temp_dict[\"title\"] = title\n",
    "    browser.visit(hemisphere_url)\n",
    "    temp_dict[\"img_url\"] = browser.find_by_css('img[class=\"wide-image\"]')['src']\n",
    "    hemisphere_dict.append(temp_dict)"
   ]
  },
  {
   "cell_type": "code",
   "execution_count": null,
   "metadata": {},
   "outputs": [],
   "source": []
  }
 ],
 "metadata": {
  "kernelspec": {
   "display_name": "Python 3",
   "language": "python",
   "name": "python3"
  },
  "language_info": {
   "codemirror_mode": {
    "name": "ipython",
    "version": 3
   },
   "file_extension": ".py",
   "mimetype": "text/x-python",
   "name": "python",
   "nbconvert_exporter": "python",
   "pygments_lexer": "ipython3",
   "version": "3.8.0"
  }
 },
 "nbformat": 4,
 "nbformat_minor": 4
}
