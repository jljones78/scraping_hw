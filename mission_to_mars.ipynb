{
 "cells": [
  {
   "cell_type": "code",
   "execution_count": 10,
   "metadata": {},
   "outputs": [],
   "source": [
    "# import dependencies\n",
    "\n",
    "import pandas as pd\n",
    "from bs4 import BeautifulSoup as bs\n",
    "# import urllib.parse\n",
    "import requests\n",
    "import pymongo\n",
    "from pymongo import MongoClient\n",
    "from selenium import webdriver\n",
    "from splinter import Browser"
   ]
  },
  {
   "cell_type": "code",
   "execution_count": 52,
   "metadata": {},
   "outputs": [
    {
     "name": "stdout",
     "output_type": "stream",
     "text": [
      "The MarCO Mission Comes to an End\n",
      "The pair of briefcase-sized satellites made history when they sailed past Mars in 2019.\n"
     ]
    }
   ],
   "source": [
    "# scrape news site for title and paragraph text, save off to variables\n",
    "news_url = \"https://mars.nasa.gov/news/\"\n",
    "driver = webdriver.Firefox()\n",
    "driver.get(news_url)\n",
    "html = driver.page_source\n",
    "news_soup = bs(html, \"html.parser\")\n",
    "\n",
    "news_title = (news_soup.find(\"div\", class_=\"list_text\")).find(\"a\").text\n",
    "print(news_title)\n",
    "\n",
    "news_paragraph = news_soup.find(\"div\", class_=\"article_teaser_body\").text\n",
    "print(news_paragraph)\n",
    "\n",
    "#close firefox\n",
    "driver.close()"
   ]
  },
  {
   "cell_type": "code",
   "execution_count": 54,
   "metadata": {},
   "outputs": [
    {
     "name": "stdout",
     "output_type": "stream",
     "text": [
      "https://www.jpl.nasa.gov/spaceimages/images/wallpaper/PIA16153-1920x1200.jpg\n"
     ]
    }
   ],
   "source": [
    "# find featured Mars image from JPL, save full-size image url\n",
    "# note: this url doesn't seem to pull up a Mars image any longer\n",
    "jpl_url = \"https://www.jpl.nasa.gov/spaceimages/?search=&category=Mars\"\n",
    "base_url = \"https://www.jpl.nasa.gov\"\n",
    "driver = webdriver.Firefox()\n",
    "driver.get(jpl_url)\n",
    "html = driver.page_source\n",
    "img_soup = bs(html, \"html.parser\")\n",
    "\n",
    "#build url from sytle tag\n",
    "image_url  = img_soup.find(\"article\")[\"style\"].replace('background-image: url(','').replace(');', '')[1:-1]\n",
    "featured_image_url = base_url + image_url\n",
    "print(featured_image_url)\n",
    "driver.close()"
   ]
  },
  {
   "cell_type": "code",
   "execution_count": 50,
   "metadata": {},
   "outputs": [
    {
     "name": "stdout",
     "output_type": "stream",
     "text": [
      "\n",
      "InSight sol 450 (2020-03-02) low -93.5ºC (-136.4ºF) high -10.4ºC (13.3ºF)\n",
      "winds from the SSW at 5.5 m/s (12.4 mph) gusting to 20.6 m/s (46.1 mph)\n",
      "pressure at 6.30 hPapic.twitter.com/82lzRqibcC\n",
      "\n"
     ]
    }
   ],
   "source": [
    "# scrape latest mars weather from twitter\n",
    "mars_wx_url = \"https://twitter.com/MarsWxReport\"\n",
    "r = requests.get(mars_wx_url)\n",
    "html = r.text\n",
    "wx_soup = bs(html, \"html.parser\")\n",
    "\n",
    "mars_weather = wx_soup.find_all(\"div\", class_=\"js-tweet-text-container\")[0].text\n",
    "print(mars_weather)"
   ]
  },
  {
   "cell_type": "code",
   "execution_count": 70,
   "metadata": {},
   "outputs": [
    {
     "name": "stdout",
     "output_type": "stream",
     "text": [
      "<table border=\"1\" class=\"dataframe\">\n",
      "  <thead>\n",
      "    <tr style=\"text-align: right;\">\n",
      "      <th></th>\n",
      "      <th>0</th>\n",
      "      <th>1</th>\n",
      "    </tr>\n",
      "  </thead>\n",
      "  <tbody>\n",
      "    <tr>\n",
      "      <th>0</th>\n",
      "      <td>Equatorial Diameter:</td>\n",
      "      <td>6,792 km</td>\n",
      "    </tr>\n",
      "    <tr>\n",
      "      <th>1</th>\n",
      "      <td>Polar Diameter:</td>\n",
      "      <td>6,752 km</td>\n",
      "    </tr>\n",
      "    <tr>\n",
      "      <th>2</th>\n",
      "      <td>Mass:</td>\n",
      "      <td>6.39 × 10^23 kg (0.11 Earths)</td>\n",
      "    </tr>\n",
      "    <tr>\n",
      "      <th>3</th>\n",
      "      <td>Moons:</td>\n",
      "      <td>2 (Phobos &amp; Deimos)</td>\n",
      "    </tr>\n",
      "    <tr>\n",
      "      <th>4</th>\n",
      "      <td>Orbit Distance:</td>\n",
      "      <td>227,943,824 km (1.38 AU)</td>\n",
      "    </tr>\n",
      "    <tr>\n",
      "      <th>5</th>\n",
      "      <td>Orbit Period:</td>\n",
      "      <td>687 days (1.9 years)</td>\n",
      "    </tr>\n",
      "    <tr>\n",
      "      <th>6</th>\n",
      "      <td>Surface Temperature:</td>\n",
      "      <td>-87 to -5 °C</td>\n",
      "    </tr>\n",
      "    <tr>\n",
      "      <th>7</th>\n",
      "      <td>First Record:</td>\n",
      "      <td>2nd millennium BC</td>\n",
      "    </tr>\n",
      "    <tr>\n",
      "      <th>8</th>\n",
      "      <td>Recorded By:</td>\n",
      "      <td>Egyptian astronomers</td>\n",
      "    </tr>\n",
      "  </tbody>\n",
      "</table>\n"
     ]
    }
   ],
   "source": [
    "# scrape Mars facts website, display as html table str using pandas\n",
    "mars_facts_url = 'https://space-facts.com/mars/'\n",
    "mars_df = pd.read_html(mars_facts_url)[0]\n",
    "\n",
    "#diplay string\n",
    "mars_facts_html_str = mars_df.to_html()\n",
    "print(mars_facts_html_str)\n",
    "\n",
    "#write to html\n",
    "mars_facts_html = mars_df.to_html('mars_facts.html')"
   ]
  },
  {
   "cell_type": "code",
   "execution_count": null,
   "metadata": {},
   "outputs": [],
   "source": []
  }
 ],
 "metadata": {
  "kernelspec": {
   "display_name": "Python 3",
   "language": "python",
   "name": "python3"
  },
  "language_info": {
   "codemirror_mode": {
    "name": "ipython",
    "version": 3
   },
   "file_extension": ".py",
   "mimetype": "text/x-python",
   "name": "python",
   "nbconvert_exporter": "python",
   "pygments_lexer": "ipython3",
   "version": "3.8.0"
  }
 },
 "nbformat": 4,
 "nbformat_minor": 4
}
